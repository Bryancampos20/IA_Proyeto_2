{
 "cells": [
  {
   "cell_type": "markdown",
   "metadata": {},
   "source": [
    "Sección 1: Importaciones y carga de entorno"
   ]
  },
  {
   "cell_type": "code",
   "execution_count": 1,
   "metadata": {},
   "outputs": [
    {
     "name": "stderr",
     "output_type": "stream",
     "text": [
      "\u001b[34m\u001b[1mwandb\u001b[0m: Using wandb-core as the SDK backend. Please refer to https://wandb.me/wandb-core for more information.\n",
      "\u001b[34m\u001b[1mwandb\u001b[0m: Currently logged in as: \u001b[33mmiguelsanchez712000\u001b[0m (\u001b[33mmiguelsanchez712000-itcr\u001b[0m). Use \u001b[1m`wandb login --relogin`\u001b[0m to force relogin\n"
     ]
    },
    {
     "data": {
      "text/html": [
       "Tracking run with wandb version 0.18.5"
      ],
      "text/plain": [
       "<IPython.core.display.HTML object>"
      ]
     },
     "metadata": {},
     "output_type": "display_data"
    },
    {
     "data": {
      "text/html": [
       "Run data is saved locally in <code>/home/miguel/Desktop/IA_Proyeto_2/wandb/run-20241020_212957-wg7sdlzs</code>"
      ],
      "text/plain": [
       "<IPython.core.display.HTML object>"
      ]
     },
     "metadata": {},
     "output_type": "display_data"
    },
    {
     "data": {
      "text/html": [
       "Syncing run <strong><a href='https://wandb.ai/miguelsanchez712000-itcr/model_comparison/runs/wg7sdlzs' target=\"_blank\">comparison_run_modelA_modelB</a></strong> to <a href='https://wandb.ai/miguelsanchez712000-itcr/model_comparison' target=\"_blank\">Weights & Biases</a> (<a href='https://wandb.me/run' target=\"_blank\">docs</a>)<br/>"
      ],
      "text/plain": [
       "<IPython.core.display.HTML object>"
      ]
     },
     "metadata": {},
     "output_type": "display_data"
    },
    {
     "data": {
      "text/html": [
       " View project at <a href='https://wandb.ai/miguelsanchez712000-itcr/model_comparison' target=\"_blank\">https://wandb.ai/miguelsanchez712000-itcr/model_comparison</a>"
      ],
      "text/plain": [
       "<IPython.core.display.HTML object>"
      ]
     },
     "metadata": {},
     "output_type": "display_data"
    },
    {
     "data": {
      "text/html": [
       " View run at <a href='https://wandb.ai/miguelsanchez712000-itcr/model_comparison/runs/wg7sdlzs' target=\"_blank\">https://wandb.ai/miguelsanchez712000-itcr/model_comparison/runs/wg7sdlzs</a>"
      ],
      "text/plain": [
       "<IPython.core.display.HTML object>"
      ]
     },
     "metadata": {},
     "output_type": "display_data"
    },
    {
     "data": {
      "text/html": [
       "<button onClick=\"this.nextSibling.style.display='block';this.style.display='none';\">Display W&B run</button><iframe src='https://wandb.ai/miguelsanchez712000-itcr/model_comparison/runs/wg7sdlzs?jupyter=true' style='border:none;width:100%;height:420px;display:none;'></iframe>"
      ],
      "text/plain": [
       "<wandb.sdk.wandb_run.Run at 0x7674b6fd92d0>"
      ]
     },
     "execution_count": 1,
     "metadata": {},
     "output_type": "execute_result"
    }
   ],
   "source": [
    "# Importaciones y configuración inicial\n",
    "import os\n",
    "import cv2\n",
    "from dotenv import load_dotenv\n",
    "import torch\n",
    "import torch.nn as nn\n",
    "import torchvision.transforms as transforms\n",
    "import torchvision.models as models\n",
    "from torchvision.datasets import ImageFolder\n",
    "from torch.utils.data import DataLoader\n",
    "import torch.nn.functional as F\n",
    "from torch.cuda.amp import GradScaler\n",
    "import wandb\n",
    "from sklearn.metrics import confusion_matrix, ConfusionMatrixDisplay\n",
    "import matplotlib.pyplot as plt\n",
    "import numpy as np\n",
    "import matplotlib\n",
    "\n",
    "# Usar el backend sin interfaz gráfica\n",
    "matplotlib.use('Agg')\n",
    "\n",
    "# Cargar las variables de entorno del archivo .env\n",
    "load_dotenv()\n",
    "\n",
    "# Inicialización de WandB\n",
    "wandb.init(\n",
    "    project=\"model_comparison\",\n",
    "    name=\"comparison_run_modelA_modelB\",\n",
    "    config={\n",
    "        \"learning_rate\": 0.001,\n",
    "        \"batch_size\": 64,\n",
    "        \"num_epochs\": 10,\n",
    "        \"architecture_A\": \"ResNet50\",\n",
    "        \"architecture_B\": \"CustomCNN\",\n",
    "        \"dataset\": \"ImageFolder\"\n",
    "    }\n",
    ")\n"
   ]
  },
  {
   "cell_type": "markdown",
   "metadata": {},
   "source": [
    "Sección 2: Cargar datasets y aplicar transformaciones"
   ]
  },
  {
   "cell_type": "code",
   "execution_count": 2,
   "metadata": {},
   "outputs": [
    {
     "name": "stderr",
     "output_type": "stream",
     "text": [
      "/tmp/ipykernel_6023/1496629156.py:12: FutureWarning: `torch.cuda.amp.GradScaler(args...)` is deprecated. Please use `torch.amp.GradScaler('cuda', args...)` instead.\n",
      "  scaler = GradScaler()\n"
     ]
    }
   ],
   "source": [
    "# Obtener las rutas de los datasets desde las variables de entorno\n",
    "train_dataset_path = os.getenv(\"TRAIN_DATASET_PATH\")\n",
    "val_dataset_path = os.getenv(\"VAL_DATASET_PATH\")\n",
    "\n",
    "# Verificación de la disponibilidad de GPU\n",
    "device = torch.device(\"cuda\" if torch.cuda.is_available() else \"cpu\")\n",
    "\n",
    "# Hiperparámetros\n",
    "batch_size = 64\n",
    "learning_rate = 0.001\n",
    "num_epochs = 10\n",
    "scaler = GradScaler()\n",
    "\n",
    "# Transformaciones con Data Augmentation para el conjunto de entrenamiento\n",
    "train_transform = transforms.Compose([\n",
    "    transforms.Resize((128, 128)),\n",
    "    transforms.RandomRotation(15),\n",
    "    transforms.RandomHorizontalFlip(),\n",
    "    transforms.ToTensor(),\n",
    "    transforms.Normalize(mean=[0.485, 0.456, 0.406], std=[0.229, 0.224, 0.225])\n",
    "])\n",
    "\n",
    "# Transformación básica sin Data Augmentation para validación\n",
    "val_transform = transforms.Compose([\n",
    "    transforms.Resize((128, 128)),\n",
    "    transforms.ToTensor(),\n",
    "    transforms.Normalize(mean=[0.485, 0.456, 0.406], std=[0.229, 0.224, 0.225])\n",
    "])\n",
    "\n",
    "# Cargar los datasets de imágenes\n",
    "train_raw_dataset = ImageFolder(root=train_dataset_path, transform=train_transform)\n",
    "val_dataset = ImageFolder(root=val_dataset_path, transform=val_transform)\n",
    "\n",
    "train_raw_loader = DataLoader(dataset=train_raw_dataset, batch_size=batch_size, shuffle=True)\n",
    "val_loader = DataLoader(dataset=val_dataset, batch_size=batch_size, shuffle=False)\n"
   ]
  },
  {
   "cell_type": "markdown",
   "metadata": {},
   "source": [
    "Sección 3: Preprocesamiento de imágenes con filtros"
   ]
  },
  {
   "cell_type": "code",
   "execution_count": 3,
   "metadata": {},
   "outputs": [],
   "source": [
    "# Funciones de preprocesamiento de imágenes manteniendo la estructura de clases\n",
    "def copy_images_with_class_structure(input_dir, output_dir):\n",
    "    os.makedirs(output_dir, exist_ok=True)\n",
    "    for root, dirs, _ in os.walk(input_dir):\n",
    "        for class_folder in dirs:\n",
    "            class_input_path = os.path.join(input_dir, class_folder)\n",
    "            class_output_path = os.path.join(output_dir, class_folder)\n",
    "            os.makedirs(class_output_path, exist_ok=True)\n",
    "\n",
    "            for file in os.listdir(class_input_path):\n",
    "                if file.endswith(('png', 'jpg', 'jpeg')):\n",
    "                    img_path = os.path.join(class_input_path, file)\n",
    "                    save_path = os.path.join(class_output_path, file)\n",
    "                    cv2.imwrite(save_path, cv2.imread(img_path))\n",
    "\n",
    "def apply_bilateral_filter(input_dir, output_dir):\n",
    "    os.makedirs(output_dir, exist_ok=True)\n",
    "    for root, dirs, _ in os.walk(input_dir):\n",
    "        for class_folder in dirs:\n",
    "            class_input_path = os.path.join(input_dir, class_folder)\n",
    "            class_output_path = os.path.join(output_dir, class_folder)\n",
    "            os.makedirs(class_output_path, exist_ok=True)\n",
    "\n",
    "            for file in os.listdir(class_input_path):\n",
    "                if file.endswith(('png', 'jpg', 'jpeg')):\n",
    "                    img_path = os.path.join(class_input_path, file)\n",
    "                    img = cv2.imread(img_path)\n",
    "                    filtered_img = cv2.bilateralFilter(img, 9, 75, 75)\n",
    "                    save_path = os.path.join(class_output_path, file)\n",
    "                    cv2.imwrite(save_path, filtered_img)\n",
    "\n",
    "def apply_canny_filter(input_dir, output_dir):\n",
    "    os.makedirs(output_dir, exist_ok=True)\n",
    "    for root, dirs, _ in os.walk(input_dir):\n",
    "        for class_folder in dirs:\n",
    "            class_input_path = os.path.join(input_dir, class_folder)\n",
    "            class_output_path = os.path.join(output_dir, class_folder)\n",
    "            os.makedirs(class_output_path, exist_ok=True)\n",
    "\n",
    "            for file in os.listdir(class_input_path):\n",
    "                if file.endswith(('png', 'jpg', 'jpeg')):\n",
    "                    img_path = os.path.join(class_input_path, file)\n",
    "                    img = cv2.imread(img_path, cv2.IMREAD_GRAYSCALE)\n",
    "                    filtered_img = cv2.Canny(img, 100, 200)\n",
    "                    save_path = os.path.join(class_output_path, file)\n",
    "                    cv2.imwrite(save_path, filtered_img)\n"
   ]
  },
  {
   "cell_type": "markdown",
   "metadata": {},
   "source": [
    "Sección 4: Crear loaders para los datasets preprocesados"
   ]
  },
  {
   "cell_type": "code",
   "execution_count": 4,
   "metadata": {},
   "outputs": [],
   "source": [
    "# Crear datasets preprocesados si no existen\n",
    "processed_dir = \"processed_datasets\"\n",
    "raw_data_dir = os.path.join(processed_dir, \"raw\")\n",
    "bilateral_data_dir = os.path.join(processed_dir, \"bilateral\")\n",
    "canny_data_dir = os.path.join(processed_dir, \"canny\")\n",
    "\n",
    "# Aplicar filtros y crear datasets procesados si no existen\n",
    "if not os.path.exists(raw_data_dir):\n",
    "    copy_images_with_class_structure(train_dataset_path, raw_data_dir)\n",
    "\n",
    "if not os.path.exists(bilateral_data_dir):\n",
    "    apply_bilateral_filter(train_dataset_path, bilateral_data_dir)\n",
    "\n",
    "if not os.path.exists(canny_data_dir):\n",
    "    apply_canny_filter(train_dataset_path, canny_data_dir)\n",
    "\n",
    "# Crear datasets preprocesados\n",
    "train_raw_dataset = ImageFolder(root=raw_data_dir, transform=train_transform)\n",
    "train_bilateral_dataset = ImageFolder(root=bilateral_data_dir, transform=train_transform)\n",
    "train_canny_dataset = ImageFolder(root=canny_data_dir, transform=train_transform)\n",
    "\n",
    "# Crear los loaders de los tres conjuntos de datos\n",
    "train_raw_loader = DataLoader(dataset=train_raw_dataset, batch_size=batch_size, shuffle=True)\n",
    "train_bilateral_loader = DataLoader(dataset=train_bilateral_dataset, batch_size=batch_size, shuffle=True)\n",
    "train_canny_loader = DataLoader(dataset=train_canny_dataset, batch_size=batch_size, shuffle=True)\n"
   ]
  },
  {
   "cell_type": "markdown",
   "metadata": {},
   "source": [
    "Sección 5: Definir funciones de entrenamiento y validación"
   ]
  },
  {
   "cell_type": "code",
   "execution_count": 5,
   "metadata": {},
   "outputs": [],
   "source": [
    "# Definir la función de pérdida\n",
    "criterion = nn.CrossEntropyLoss()\n",
    "\n",
    "# Función de entrenamiento con WandB\n",
    "def train(model, train_loader, criterion, optimizer, device, model_name, dataset_name, epoch):\n",
    "    model.train()\n",
    "    running_loss = 0.0\n",
    "    for images, labels in train_loader:\n",
    "        images, labels = images.to(device), labels.to(device)\n",
    "\n",
    "        optimizer.zero_grad()\n",
    "        with torch.amp.autocast('cuda'):\n",
    "            outputs = model(images)\n",
    "            loss = criterion(outputs, labels)\n",
    "\n",
    "        scaler.scale(loss).backward()\n",
    "        scaler.step(optimizer)\n",
    "        scaler.update()\n",
    "\n",
    "        running_loss += loss.item()\n",
    "\n",
    "    average_loss = running_loss / len(train_loader)\n",
    "    wandb.log({f\"{model_name}_{dataset_name}_train_loss\": average_loss, 'epoch': epoch})\n",
    "    return average_loss\n",
    "\n",
    "# Función de validación con WandB y matriz de confusión\n",
    "def validate_and_plot_confusion_matrix(model, val_loader, criterion, device, model_name, dataset_name, epoch):\n",
    "    model.eval()\n",
    "    running_loss = 0.0\n",
    "    correct_predictions = 0\n",
    "    true_labels = []\n",
    "    pred_labels = []\n",
    "\n",
    "    with torch.no_grad():\n",
    "        for images, labels in val_loader:\n",
    "            images, labels = images.to(device), labels.to(device)\n",
    "            outputs = model(images)\n",
    "            loss = criterion(outputs, labels)\n",
    "            running_loss += loss.item()\n",
    "\n",
    "            _, predicted = torch.max(outputs, 1)\n",
    "            correct_predictions += (predicted == labels).sum().item()\n",
    "\n",
    "            true_labels.extend(labels.cpu().numpy())\n",
    "            pred_labels.extend(predicted.cpu().numpy())\n",
    "\n",
    "    accuracy = correct_predictions / len(val_loader.dataset)\n",
    "    average_loss = running_loss / len(val_loader)\n",
    "\n",
    "    wandb.log({\n",
    "        f\"{model_name}_{dataset_name}_val_loss\": average_loss,\n",
    "        f\"{model_name}_{dataset_name}_val_accuracy\": accuracy,\n",
    "        'epoch': epoch\n",
    "    })\n",
    "\n",
    "    # Generar la matriz de confusión\n",
    "    cm = confusion_matrix(true_labels, pred_labels)\n",
    "    disp = ConfusionMatrixDisplay(confusion_matrix=cm)\n",
    "\n",
    "    # Crear la estructura de carpetas para las matrices de confusión\n",
    "    output_dir = os.path.join(\"confusion_matrices\", model_name, dataset_name)\n",
    "    os.makedirs(output_dir, exist_ok=True)\n",
    "\n",
    "    # Guardar la matriz de confusión en la carpeta correspondiente\n",
    "    file_path = os.path.join(output_dir, f'confusion_matrix_epoch_{epoch}.png')\n",
    "    disp.plot(cmap=plt.cm.Blues)\n",
    "    plt.title(f'Matriz de Confusión - {model_name} - {dataset_name} - Epoch {epoch}')\n",
    "    plt.savefig(file_path)\n",
    "    plt.close()\n",
    "\n",
    "    return average_loss, accuracy\n"
   ]
  },
  {
   "cell_type": "markdown",
   "metadata": {},
   "source": [
    "Sección 6: Definir Modelo A (ResNet50) y Modelo B (CustomCNN)"
   ]
  },
  {
   "cell_type": "code",
   "execution_count": 6,
   "metadata": {},
   "outputs": [
    {
     "name": "stdout",
     "output_type": "stream",
     "text": [
      "CUDA está disponible. Usando GPU.\n",
      "Intentando cargar el modelo A en GPU...\n",
      "Modelo A cargado correctamente en GPU.\n",
      "Intentando cargar el modelo B en GPU...\n",
      "Modelo B cargado correctamente en GPU.\n"
     ]
    }
   ],
   "source": [
    "import os\n",
    "\n",
    "# Forzar CUDA_LAUNCH_BLOCKING para una mejor depuración de errores\n",
    "os.environ[\"CUDA_LAUNCH_BLOCKING\"] = \"1\"\n",
    "\n",
    "# Verificar la disponibilidad de CUDA\n",
    "if torch.cuda.is_available():\n",
    "    print(\"CUDA está disponible. Usando GPU.\")\n",
    "    device = torch.device(\"cuda\")\n",
    "else:\n",
    "    print(\"CUDA no está disponible. Usando CPU.\")\n",
    "    device = torch.device(\"cpu\")\n",
    "\n",
    "# Función para liberar memoria y reiniciar la GPU\n",
    "def liberar_memoria_gpu():\n",
    "    torch.cuda.empty_cache()\n",
    "    torch.cuda.ipc_collect()\n",
    "\n",
    "# Liberar recursos antes de cargar el modelo\n",
    "liberar_memoria_gpu()\n",
    "\n",
    "# Intentar cargar ResNet50 en GPU\n",
    "forzar_gpu = True\n",
    "try:\n",
    "    print(\"Intentando cargar el modelo A en GPU...\")\n",
    "    model_a = models.resnet50(weights=models.ResNet50_Weights.IMAGENET1K_V1)\n",
    "    num_features = model_a.fc.in_features\n",
    "    model_a.fc = nn.Linear(num_features, 3)\n",
    "    if forzar_gpu:\n",
    "        model_a = model_a.to(device)\n",
    "    print(\"Modelo A cargado correctamente en GPU.\")\n",
    "except RuntimeError as e:\n",
    "    print(f\"Error al cargar el Modelo A en GPU: {e}\")\n",
    "    print(\"Liberando recursos de GPU y volviendo a intentar...\")\n",
    "    liberar_memoria_gpu()  # Liberar memoria y volver a intentar en GPU\n",
    "    try:\n",
    "        model_a = model_a.to(device)\n",
    "        print(\"Modelo A cargado correctamente después de liberar GPU.\")\n",
    "    except RuntimeError as e:\n",
    "        print(f\"Error persistente al cargar el Modelo A: {e}\")\n",
    "        print(\"Pasando a CPU.\")\n",
    "        device = torch.device(\"cpu\")\n",
    "        model_a = model_a.to(device)\n",
    "\n",
    "# Definir la clase CustomCNN antes de usar model_b\n",
    "class CustomCNN(nn.Module):\n",
    "    def __init__(self, num_classes=3):\n",
    "        super(CustomCNN, self).__init__()\n",
    "\n",
    "        self.conv1 = nn.Conv2d(in_channels=3, out_channels=32, kernel_size=3, padding=1, stride=2)\n",
    "        self.conv2 = nn.Conv2d(in_channels=32, out_channels=64, kernel_size=3, padding=1, stride=2)\n",
    "        self.batch_norm1 = nn.BatchNorm2d(64)\n",
    "        self.pool = nn.MaxPool2d(kernel_size=2, stride=2)\n",
    "        self.dropout = nn.Dropout(0.25)\n",
    "\n",
    "        self.inception_1x1 = nn.Conv2d(in_channels=64, out_channels=32, kernel_size=1)\n",
    "        self.inception_3x3 = nn.Conv2d(in_channels=32, out_channels=32, kernel_size=3, padding=1)\n",
    "        self.inception_5x5 = nn.Conv2d(in_channels=32, out_channels=32, kernel_size=5, padding=2)\n",
    "        self.batch_norm2 = nn.BatchNorm2d(96)\n",
    "\n",
    "        self.conv3 = nn.Conv2d(in_channels=96, out_channels=128, kernel_size=3, padding=1, stride=2)\n",
    "        self.conv4 = nn.Conv2d(in_channels=128, out_channels=256, kernel_size=3, padding=1, stride=2)\n",
    "        self.batch_norm3 = nn.BatchNorm2d(256)\n",
    "        self.pool2 = nn.MaxPool2d(kernel_size=2, stride=2)\n",
    "        self.dropout2 = nn.Dropout(0.4)\n",
    "\n",
    "        self.fc1 = nn.Linear(256 * 2 * 2, 512)  # Ajuste del tamaño correcto\n",
    "        self.fc2 = nn.Linear(512, num_classes)\n",
    "\n",
    "    def forward(self, x):\n",
    "        x = F.relu(self.conv1(x))\n",
    "        x = F.relu(self.conv2(x))\n",
    "        x = self.batch_norm1(x)\n",
    "        x = self.pool(x)\n",
    "        x = self.dropout(x)\n",
    "\n",
    "        x_1x1 = F.relu(self.inception_1x1(x))\n",
    "        x_3x3 = F.relu(self.inception_3x3(x_1x1))\n",
    "        x_5x5 = F.relu(self.inception_5x5(x_1x1))\n",
    "\n",
    "        inception_output = torch.cat([x_1x1, x_3x3, x_5x5], dim=1)\n",
    "        x = self.batch_norm2(inception_output)\n",
    "\n",
    "        x = F.relu(self.conv3(x))\n",
    "        x = F.relu(self.conv4(x))\n",
    "        x = self.batch_norm3(x)\n",
    "        x = self.pool2(x)\n",
    "        x = self.dropout2(x)\n",
    "\n",
    "        x = x.view(x.size(0), -1)\n",
    "\n",
    "        x = F.relu(self.fc1(x))\n",
    "        x = self.dropout2(x)\n",
    "        x = self.fc2(x)\n",
    "\n",
    "        return x\n",
    "\n",
    "# Intentar inicializar el modelo B en GPU\n",
    "try:\n",
    "    print(\"Intentando cargar el modelo B en GPU...\")\n",
    "    model_b = CustomCNN(num_classes=3).to(device)\n",
    "    print(\"Modelo B cargado correctamente en GPU.\")\n",
    "except RuntimeError as e:\n",
    "    print(f\"Error al cargar el Modelo B en GPU: {e}\")\n",
    "    print(\"Liberando recursos de GPU y volviendo a intentar...\")\n",
    "    liberar_memoria_gpu()\n",
    "    try:\n",
    "        model_b = model_b.to(device)\n",
    "        print(\"Modelo B cargado correctamente después de liberar GPU.\")\n",
    "    except RuntimeError as e:\n",
    "        print(f\"Error persistente al cargar el Modelo B: {e}\")\n",
    "        print(\"Pasando a CPU.\")\n",
    "        model_b = model_b.to(torch.device(\"cpu\"))\n",
    "\n",
    "# Inicialización de los optimizadores\n",
    "optimizer_a = torch.optim.Adam(model_a.parameters(), lr=learning_rate)\n",
    "optimizer_b = torch.optim.Adam(model_b.parameters(), lr=learning_rate)\n",
    "\n",
    "# Liberar memoria de GPU una vez más antes de continuar\n",
    "liberar_memoria_gpu()\n"
   ]
  },
  {
   "cell_type": "markdown",
   "metadata": {},
   "source": [
    "Sección 7: Entrenamiento y validación de ambos modelos"
   ]
  },
  {
   "cell_type": "code",
   "execution_count": 7,
   "metadata": {},
   "outputs": [
    {
     "name": "stdout",
     "output_type": "stream",
     "text": [
      "\n",
      "--- Epoch [1/10] ---\n",
      "Modelo A - Raw Data - Train Loss: 0.9578, Val Loss: 7.2549, Val Accuracy: 0.4545\n",
      "Modelo A - Bilateral Filter - Train Loss: 0.5386, Val Loss: 1.7303, Val Accuracy: 0.6970\n",
      "Modelo A - Canny Edge - Train Loss: 2.9247, Val Loss: 4.9853, Val Accuracy: 0.6818\n",
      "Modelo B - Raw Data - Train Loss: 1.0022, Val Loss: 1.0967, Val Accuracy: 0.6667\n",
      "Modelo B - Bilateral Filter - Train Loss: 0.6383, Val Loss: 1.0616, Val Accuracy: 0.4848\n",
      "Modelo B - Canny Edge - Train Loss: 1.1844, Val Loss: 0.9695, Val Accuracy: 0.5606\n",
      "\n",
      "--- Epoch [2/10] ---\n",
      "Modelo A - Raw Data - Train Loss: 0.2259, Val Loss: 10.2578, Val Accuracy: 0.4848\n",
      "Modelo A - Bilateral Filter - Train Loss: 0.1092, Val Loss: 1.1756, Val Accuracy: 0.6667\n",
      "Modelo A - Canny Edge - Train Loss: 1.1724, Val Loss: 2.7173, Val Accuracy: 0.6515\n",
      "Modelo B - Raw Data - Train Loss: 0.7515, Val Loss: 0.9391, Val Accuracy: 0.5606\n",
      "Modelo B - Bilateral Filter - Train Loss: 0.4124, Val Loss: 1.0266, Val Accuracy: 0.5606\n",
      "Modelo B - Canny Edge - Train Loss: 0.9830, Val Loss: 0.6583, Val Accuracy: 0.6515\n",
      "\n",
      "--- Epoch [3/10] ---\n",
      "Modelo A - Raw Data - Train Loss: 0.4175, Val Loss: 3.3462, Val Accuracy: 0.3030\n",
      "Modelo A - Bilateral Filter - Train Loss: 0.2729, Val Loss: 6.3347, Val Accuracy: 0.3333\n",
      "Modelo A - Canny Edge - Train Loss: 0.7360, Val Loss: 1.1677, Val Accuracy: 0.4091\n",
      "Modelo B - Raw Data - Train Loss: 0.3317, Val Loss: 1.1385, Val Accuracy: 0.5303\n",
      "Modelo B - Bilateral Filter - Train Loss: 0.2643, Val Loss: 1.0789, Val Accuracy: 0.5758\n",
      "Modelo B - Canny Edge - Train Loss: 0.9652, Val Loss: 0.9581, Val Accuracy: 0.6667\n",
      "\n",
      "--- Epoch [4/10] ---\n",
      "Modelo A - Raw Data - Train Loss: 0.1786, Val Loss: 0.5212, Val Accuracy: 0.6667\n",
      "Modelo A - Bilateral Filter - Train Loss: 0.1186, Val Loss: 0.3338, Val Accuracy: 0.8788\n",
      "Modelo A - Canny Edge - Train Loss: 0.6273, Val Loss: 3.1394, Val Accuracy: 0.3030\n",
      "Modelo B - Raw Data - Train Loss: 0.2714, Val Loss: 0.4574, Val Accuracy: 0.6970\n",
      "Modelo B - Bilateral Filter - Train Loss: 0.2489, Val Loss: 0.5377, Val Accuracy: 0.6667\n",
      "Modelo B - Canny Edge - Train Loss: 0.8629, Val Loss: 0.9720, Val Accuracy: 0.6364\n",
      "\n",
      "--- Epoch [5/10] ---\n",
      "Modelo A - Raw Data - Train Loss: 0.1728, Val Loss: 1.4079, Val Accuracy: 0.3485\n",
      "Modelo A - Bilateral Filter - Train Loss: 0.1341, Val Loss: 0.6085, Val Accuracy: 0.6667\n",
      "Modelo A - Canny Edge - Train Loss: 0.4159, Val Loss: 0.5315, Val Accuracy: 0.6515\n",
      "Modelo B - Raw Data - Train Loss: 0.2324, Val Loss: 0.2293, Val Accuracy: 0.8030\n",
      "Modelo B - Bilateral Filter - Train Loss: 0.1781, Val Loss: 0.1704, Val Accuracy: 0.9242\n",
      "Modelo B - Canny Edge - Train Loss: 0.6616, Val Loss: 0.3038, Val Accuracy: 0.8182\n",
      "\n",
      "--- Epoch [6/10] ---\n",
      "Modelo A - Raw Data - Train Loss: 0.1289, Val Loss: 0.7463, Val Accuracy: 0.6061\n",
      "Modelo A - Bilateral Filter - Train Loss: 0.0648, Val Loss: 1.1576, Val Accuracy: 0.5455\n",
      "Modelo A - Canny Edge - Train Loss: 0.3846, Val Loss: 0.8734, Val Accuracy: 0.5909\n",
      "Modelo B - Raw Data - Train Loss: 0.1685, Val Loss: 0.3084, Val Accuracy: 0.7879\n",
      "Modelo B - Bilateral Filter - Train Loss: 0.1230, Val Loss: 0.4325, Val Accuracy: 0.7424\n",
      "Modelo B - Canny Edge - Train Loss: 0.5763, Val Loss: 3.5557, Val Accuracy: 0.5606\n",
      "\n",
      "--- Epoch [7/10] ---\n",
      "Modelo A - Raw Data - Train Loss: 0.0630, Val Loss: 0.5644, Val Accuracy: 0.7879\n",
      "Modelo A - Bilateral Filter - Train Loss: 0.0685, Val Loss: 0.3895, Val Accuracy: 0.9242\n",
      "Modelo A - Canny Edge - Train Loss: 0.3346, Val Loss: 0.9226, Val Accuracy: 0.6364\n",
      "Modelo B - Raw Data - Train Loss: 0.1931, Val Loss: 0.5897, Val Accuracy: 0.6970\n",
      "Modelo B - Bilateral Filter - Train Loss: 0.1130, Val Loss: 0.1813, Val Accuracy: 0.8182\n",
      "Modelo B - Canny Edge - Train Loss: 0.7569, Val Loss: 0.7162, Val Accuracy: 0.6818\n",
      "\n",
      "--- Epoch [8/10] ---\n",
      "Modelo A - Raw Data - Train Loss: 0.0866, Val Loss: 0.6232, Val Accuracy: 0.7727\n",
      "Modelo A - Bilateral Filter - Train Loss: 0.0437, Val Loss: 0.1348, Val Accuracy: 0.9091\n",
      "Modelo A - Canny Edge - Train Loss: 0.3264, Val Loss: 0.7935, Val Accuracy: 0.5455\n",
      "Modelo B - Raw Data - Train Loss: 0.2569, Val Loss: 0.2445, Val Accuracy: 0.7727\n",
      "Modelo B - Bilateral Filter - Train Loss: 0.1928, Val Loss: 0.3503, Val Accuracy: 0.7879\n",
      "Modelo B - Canny Edge - Train Loss: 0.9502, Val Loss: 1.5512, Val Accuracy: 0.6364\n",
      "\n",
      "--- Epoch [9/10] ---\n",
      "Modelo A - Raw Data - Train Loss: 0.0625, Val Loss: 0.3083, Val Accuracy: 0.9242\n",
      "Modelo A - Bilateral Filter - Train Loss: 0.0360, Val Loss: 0.3664, Val Accuracy: 0.9394\n",
      "Modelo A - Canny Edge - Train Loss: 0.2769, Val Loss: 0.8477, Val Accuracy: 0.4848\n",
      "Modelo B - Raw Data - Train Loss: 0.2605, Val Loss: 0.7187, Val Accuracy: 0.6818\n",
      "Modelo B - Bilateral Filter - Train Loss: 0.1865, Val Loss: 0.2687, Val Accuracy: 0.8030\n",
      "Modelo B - Canny Edge - Train Loss: 0.8611, Val Loss: 0.6626, Val Accuracy: 0.6212\n",
      "\n",
      "--- Epoch [10/10] ---\n",
      "Modelo A - Raw Data - Train Loss: 0.0484, Val Loss: 1.2257, Val Accuracy: 0.4697\n",
      "Modelo A - Bilateral Filter - Train Loss: 0.0228, Val Loss: 0.6756, Val Accuracy: 0.6212\n",
      "Modelo A - Canny Edge - Train Loss: 0.2337, Val Loss: 1.6755, Val Accuracy: 0.3030\n",
      "Modelo B - Raw Data - Train Loss: 0.2110, Val Loss: 0.2686, Val Accuracy: 0.7424\n",
      "Modelo B - Bilateral Filter - Train Loss: 0.1367, Val Loss: 0.2863, Val Accuracy: 0.8636\n",
      "Modelo B - Canny Edge - Train Loss: 0.7974, Val Loss: 1.0513, Val Accuracy: 0.6515\n"
     ]
    }
   ],
   "source": [
    "# Loop de entrenamiento y validación para Modelo A y B\n",
    "for epoch in range(1, num_epochs + 1):\n",
    "    print(f\"\\n--- Epoch [{epoch}/{num_epochs}] ---\")\n",
    "\n",
    "    # Entrenamiento y validación en dataset crudo para Modelo A\n",
    "    train_loss = train(model_a, train_raw_loader, criterion, optimizer_a, device, \"Model_A\", \"Raw_Data\", epoch)\n",
    "    val_loss, val_accuracy = validate_and_plot_confusion_matrix(model_a, val_loader, criterion, device, \"Model_A\", \"Raw_Data\", epoch)\n",
    "    print(f\"Modelo A - Raw Data - Train Loss: {train_loss:.4f}, Val Loss: {val_loss:.4f}, Val Accuracy: {val_accuracy:.4f}\")\n",
    "\n",
    "    # Entrenamiento y validación en dataset bilateral para Modelo A\n",
    "    train_loss = train(model_a, train_bilateral_loader, criterion, optimizer_a, device, \"Model_A\", \"Bilateral_Filter\", epoch)\n",
    "    val_loss, val_accuracy = validate_and_plot_confusion_matrix(model_a, val_loader, criterion, device, \"Model_A\", \"Bilateral_Filter\", epoch)\n",
    "    print(f\"Modelo A - Bilateral Filter - Train Loss: {train_loss:.4f}, Val Loss: {val_loss:.4f}, Val Accuracy: {val_accuracy:.4f}\")\n",
    "\n",
    "    # Entrenamiento y validación en dataset canny para Modelo A\n",
    "    train_loss = train(model_a, train_canny_loader, criterion, optimizer_a, device, \"Model_A\", \"Canny_Edge\", epoch)\n",
    "    val_loss, val_accuracy = validate_and_plot_confusion_matrix(model_a, val_loader, criterion, device, \"Model_A\", \"Canny_Edge\", epoch)\n",
    "    print(f\"Modelo A - Canny Edge - Train Loss: {train_loss:.4f}, Val Loss: {val_loss:.4f}, Val Accuracy: {val_accuracy:.4f}\")\n",
    "\n",
    "    # Entrenamiento y validación en dataset crudo para Modelo B\n",
    "    train_loss = train(model_b, train_raw_loader, criterion, optimizer_b, device, \"Model_B\", \"Raw_Data\", epoch)\n",
    "    val_loss, val_accuracy = validate_and_plot_confusion_matrix(model_b, val_loader, criterion, device, \"Model_B\", \"Raw_Data\", epoch)\n",
    "    print(f\"Modelo B - Raw Data - Train Loss: {train_loss:.4f}, Val Loss: {val_loss:.4f}, Val Accuracy: {val_accuracy:.4f}\")\n",
    "\n",
    "    # Entrenamiento y validación en dataset bilateral para Modelo B\n",
    "    train_loss = train(model_b, train_bilateral_loader, criterion, optimizer_b, device, \"Model_B\", \"Bilateral_Filter\", epoch)\n",
    "    val_loss, val_accuracy = validate_and_plot_confusion_matrix(model_b, val_loader, criterion, device, \"Model_B\", \"Bilateral_Filter\", epoch)\n",
    "    print(f\"Modelo B - Bilateral Filter - Train Loss: {train_loss:.4f}, Val Loss: {val_loss:.4f}, Val Accuracy: {val_accuracy:.4f}\")\n",
    "\n",
    "    # Entrenamiento y validación en dataset canny para Modelo B\n",
    "    train_loss = train(model_b, train_canny_loader, criterion, optimizer_b, device, \"Model_B\", \"Canny_Edge\", epoch)\n",
    "    val_loss, val_accuracy = validate_and_plot_confusion_matrix(model_b, val_loader, criterion, device, \"Model_B\", \"Canny_Edge\", epoch)\n",
    "    print(f\"Modelo B - Canny Edge - Train Loss: {train_loss:.4f}, Val Loss: {val_loss:.4f}, Val Accuracy: {val_accuracy:.4f}\")\n"
   ]
  }
 ],
 "metadata": {
  "kernelspec": {
   "display_name": "Python 3",
   "language": "python",
   "name": "python3"
  },
  "language_info": {
   "codemirror_mode": {
    "name": "ipython",
    "version": 3
   },
   "file_extension": ".py",
   "mimetype": "text/x-python",
   "name": "python",
   "nbconvert_exporter": "python",
   "pygments_lexer": "ipython3",
   "version": "3.10.12"
  }
 },
 "nbformat": 4,
 "nbformat_minor": 2
}
